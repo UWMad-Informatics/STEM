{
 "cells": [
  {
   "cell_type": "code",
   "execution_count": 1,
   "metadata": {
    "collapsed": true
   },
   "outputs": [],
   "source": [
    "%matplotlib inline\n",
    "import matplotlib\n",
    "import matplotlib.pyplot as plt\n",
    "import matplotlib.pylab as pylab\n",
    "import matplotlib.mlab as mlab"
   ]
  },
  {
   "cell_type": "code",
   "execution_count": 5,
   "metadata": {
    "collapsed": false
   },
   "outputs": [
    {
     "name": "stdout",
     "output_type": "stream",
     "text": [
      "The object is of type <class 'dict'>\n",
      "The keys of each value in the dictionary are...\n",
      "__globals__\n",
      "__version__\n",
      "ImgG\n",
      "__header__\n"
     ]
    }
   ],
   "source": [
    "from scipy.io import loadmat # Needed for opening the matlab file\n",
    "\n",
    "datafile = loadmat(\"Pt110-multislice-v0.mat\")\n",
    "print(\"The object is of type\", type(datafile))\n",
    "print(\"The keys of each value in the dictionary are...\")\n",
    "for key in datafile:\n",
    "    print(key)"
   ]
  },
  {
   "cell_type": "code",
   "execution_count": 6,
   "metadata": {
    "collapsed": false
   },
   "outputs": [
    {
     "name": "stdout",
     "output_type": "stream",
     "text": [
      "The object is of type <class 'numpy.ndarray'>\n"
     ]
    }
   ],
   "source": [
    "import numpy as np # Needed for opening the matlab file\n",
    "\n",
    "datafile = np.load(\"Pt110-convolution-v0.npy\")\n",
    "print(\"The object is of type\", type(datafile))"
   ]
  },
  {
   "cell_type": "code",
   "execution_count": 10,
   "metadata": {
    "collapsed": false
   },
   "outputs": [
    {
     "name": "stdout",
     "output_type": "stream",
     "text": [
      "The shape of the dataset is (50, 36, 20)\n"
     ]
    },
    {
     "data": {
      "image/png": "[encoded data removed]",
      "text/plain": [
       "<matplotlib.figure.Figure at 0x10f2977f0>"
      ]
     },
     "metadata": {},
     "output_type": "display_data"
    }
   ],
   "source": [
    "from scipy.io import loadmat # Needed for opening the matlab file\n",
    "import matplotlib.pyplot as plt # Needed for viewing the image\n",
    "import matplotlib.cm as cm # Database of colormaps for visualization\n",
    "\n",
    "datafile = loadmat(\"Pt110-multislice-v0.mat\")\n",
    "multislice_data = datafile[\"ImgG\"]\n",
    "print(\"The shape of the dataset is\", multislice_data.shape)\n",
    "\n",
    "# Plot one of the images\n",
    "image = multislice_data[:,:,-1]\n",
    "fig, ax = plt.subplots(figsize=(4,4))\n",
    "\n",
    "# Plot the data and adjust image\n",
    "fig.colorbar(ax.pcolormesh(image, cmap=cm.viridis))\n",
    "ax.set_aspect(\"equal\", \"box\")\n",
    "ax.set_xlim(0, image.shape[1])\n",
    "ax.set_ylim(0 ,image.shape[0])\n",
    "plt.title(\"Pt110 - 10 layers - multislice\", size=11)\n",
    "\n",
    "import os\n",
    "os.mkdir(\"images\")\n",
    "\n",
    "plt.savefig(\"images/Pt110-multislice-10-layers.png\", dpi=300)\n",
    "plt.show()"
   ]
  },
  {
   "cell_type": "code",
   "execution_count": 12,
   "metadata": {
    "collapsed": false
   },
   "outputs": [
    {
     "name": "stdout",
     "output_type": "stream",
     "text": [
      "The shape of the dataset is (50, 36, 20)\n",
      "The shape of the image is (50, 36)\n",
      "The image is summarized below\n",
      "\n",
      "[[ 0.164144    0.15995182  0.15135073 ...,  0.14870137  0.15823832\n",
      "   0.16355108]\n",
      " [ 0.16030591  0.15621545  0.14782801 ...,  0.14526693  0.15455876\n",
      "   0.1597326 ]\n",
      " [ 0.15198019  0.14811156  0.14018758 ...,  0.13780731  0.14657128\n",
      "   0.15144706]\n",
      " ..., \n",
      " [ 0.14740739  0.14366491  0.13599535 ...,  0.13367473  0.14216323\n",
      "   0.14688763]\n",
      " [ 0.15738502  0.15337505  0.14515013 ...,  0.14262796  0.15174353\n",
      "   0.15682041]\n",
      " [ 0.16313942  0.15897491  0.15042972 ...,  0.14779387  0.15727015\n",
      "   0.16254952]]\n",
      "\n",
      "The intensity at point (0, 0) is 0.164144001733\n",
      "The intensity at point (2, 1) is 0.148111564055\n"
     ]
    }
   ],
   "source": [
    "from scipy.io import loadmat # Needed for opening the matlab file\n",
    "import numpy as np\n",
    "\n",
    "datafile = loadmat(\"Pt110-multislice-v0.mat\")\n",
    "multislice_data = datafile[\"ImgG\"]\n",
    "print(\"The shape of the dataset is\", multislice_data.shape)\n",
    "\n",
    "# Plot one of the images\n",
    "image = multislice_data[:,:,-1]\n",
    "\n",
    "print(\"The shape of the image is\", image.shape)\n",
    "print(\"The image is summarized below\\n\")\n",
    "print(image)\n",
    "print(\"\\nThe intensity at point (0, 0) is\", image[0][0])\n",
    "print(\"The intensity at point (2, 1) is\", image[2][1])"
   ]
  },
  {
   "cell_type": "code",
   "execution_count": null,
   "metadata": {
    "collapsed": true
   },
   "outputs": [],
   "source": []
  }
 ],
 "metadata": {
  "kernelspec": {
   "display_name": "Python 3",
   "language": "python",
   "name": "python3"
  },
  "language_info": {
   "codemirror_mode": {
    "name": "ipython",
    "version": 3
   },
   "file_extension": ".py",
   "mimetype": "text/x-python",
   "name": "python",
   "nbconvert_exporter": "python",
   "pygments_lexer": "ipython3",
   "version": "3.5.2"
  }
 },
 "nbformat": 4,
 "nbformat_minor": 0
}
